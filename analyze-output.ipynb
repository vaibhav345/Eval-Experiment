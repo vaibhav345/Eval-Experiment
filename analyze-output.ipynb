{
 "cells": [
  {
   "cell_type": "markdown",
   "metadata": {},
   "source": [
    "# Analyze Results from Eval-Experiment\n",
    "\n",
    "This notebook analyzes the results of the Eval-Experiment."
   ]
  },
  {
   "cell_type": "code",
   "execution_count": 1,
   "metadata": {
    "collapsed": true
   },
   "outputs": [],
   "source": [
    "import pandas as pd\n",
    "import matplotlib"
   ]
  },
  {
   "cell_type": "code",
   "execution_count": 2,
   "metadata": {
    "collapsed": true
   },
   "outputs": [],
   "source": [
    "%matplotlib inline"
   ]
  },
  {
   "cell_type": "markdown",
   "metadata": {},
   "source": [
    "## Data Import and Preparation\n",
    "\n",
    "LensKit puts its output in a `csv` file:"
   ]
  },
  {
   "cell_type": "code",
   "execution_count": 3,
   "metadata": {
    "collapsed": false
   },
   "outputs": [
    {
     "data": {
      "text/html": [
       "<div>\n",
       "<table border=\"1\" class=\"dataframe\">\n",
       "  <thead>\n",
       "    <tr style=\"text-align: right;\">\n",
       "      <th></th>\n",
       "      <th>Partition</th>\n",
       "      <th>DataSet</th>\n",
       "      <th>Algorithm</th>\n",
       "      <th>BuildTime</th>\n",
       "      <th>TestTime</th>\n",
       "      <th>5R.MRR</th>\n",
       "      <th>5R.MRR.OfGood</th>\n",
       "      <th>5R.TopN.nDCG</th>\n",
       "      <th>5R.MAP</th>\n",
       "      <th>5R.MAP.OfGood</th>\n",
       "      <th>...</th>\n",
       "      <th>500R.Recall</th>\n",
       "      <th>500R.F1</th>\n",
       "      <th>1000R.MRR</th>\n",
       "      <th>1000R.MRR.OfGood</th>\n",
       "      <th>1000R.TopN.nDCG</th>\n",
       "      <th>1000R.MAP</th>\n",
       "      <th>1000R.MAP.OfGood</th>\n",
       "      <th>1000R.Precision</th>\n",
       "      <th>1000R.Recall</th>\n",
       "      <th>1000R.F1</th>\n",
       "    </tr>\n",
       "  </thead>\n",
       "  <tbody>\n",
       "    <tr>\n",
       "      <th>0</th>\n",
       "      <td>2</td>\n",
       "      <td>ratings.csv</td>\n",
       "      <td>Funksvd</td>\n",
       "      <td>10.337</td>\n",
       "      <td>21.226</td>\n",
       "      <td>0.722886</td>\n",
       "      <td>0.728321</td>\n",
       "      <td>0.679003</td>\n",
       "      <td>0.561887</td>\n",
       "      <td>0.566112</td>\n",
       "      <td>...</td>\n",
       "      <td>0.006716</td>\n",
       "      <td>0.006716</td>\n",
       "      <td>0.007223</td>\n",
       "      <td>0.193571</td>\n",
       "      <td>0.004132</td>\n",
       "      <td>0.001122</td>\n",
       "      <td>0.030071</td>\n",
       "      <td>0.005224</td>\n",
       "      <td>0.005224</td>\n",
       "      <td>0.005224</td>\n",
       "    </tr>\n",
       "    <tr>\n",
       "      <th>1</th>\n",
       "      <td>4</td>\n",
       "      <td>ratings.csv</td>\n",
       "      <td>Funksvd</td>\n",
       "      <td>10.352</td>\n",
       "      <td>23.436</td>\n",
       "      <td>0.797494</td>\n",
       "      <td>0.797494</td>\n",
       "      <td>0.700963</td>\n",
       "      <td>0.595995</td>\n",
       "      <td>0.595995</td>\n",
       "      <td>...</td>\n",
       "      <td>0.001504</td>\n",
       "      <td>0.001504</td>\n",
       "      <td>0.004386</td>\n",
       "      <td>0.291667</td>\n",
       "      <td>0.002052</td>\n",
       "      <td>0.000439</td>\n",
       "      <td>0.029167</td>\n",
       "      <td>0.001504</td>\n",
       "      <td>0.001504</td>\n",
       "      <td>0.001504</td>\n",
       "    </tr>\n",
       "    <tr>\n",
       "      <th>2</th>\n",
       "      <td>5</td>\n",
       "      <td>ratings.csv</td>\n",
       "      <td>Funksvd</td>\n",
       "      <td>10.449</td>\n",
       "      <td>23.776</td>\n",
       "      <td>0.742105</td>\n",
       "      <td>0.742105</td>\n",
       "      <td>0.686075</td>\n",
       "      <td>0.572510</td>\n",
       "      <td>0.572510</td>\n",
       "      <td>...</td>\n",
       "      <td>0.003759</td>\n",
       "      <td>0.003759</td>\n",
       "      <td>0.005293</td>\n",
       "      <td>0.175992</td>\n",
       "      <td>0.002374</td>\n",
       "      <td>0.000529</td>\n",
       "      <td>0.017599</td>\n",
       "      <td>0.003759</td>\n",
       "      <td>0.003759</td>\n",
       "      <td>0.003759</td>\n",
       "    </tr>\n",
       "    <tr>\n",
       "      <th>3</th>\n",
       "      <td>3</td>\n",
       "      <td>ratings.csv</td>\n",
       "      <td>Funksvd</td>\n",
       "      <td>10.346</td>\n",
       "      <td>26.480</td>\n",
       "      <td>0.753358</td>\n",
       "      <td>0.753358</td>\n",
       "      <td>0.706474</td>\n",
       "      <td>0.593291</td>\n",
       "      <td>0.597752</td>\n",
       "      <td>...</td>\n",
       "      <td>0.005224</td>\n",
       "      <td>0.005224</td>\n",
       "      <td>0.006290</td>\n",
       "      <td>0.280952</td>\n",
       "      <td>0.002541</td>\n",
       "      <td>0.000629</td>\n",
       "      <td>0.028095</td>\n",
       "      <td>0.002239</td>\n",
       "      <td>0.002239</td>\n",
       "      <td>0.002239</td>\n",
       "    </tr>\n",
       "    <tr>\n",
       "      <th>4</th>\n",
       "      <td>1</td>\n",
       "      <td>ratings.csv</td>\n",
       "      <td>Funksvd</td>\n",
       "      <td>10.371</td>\n",
       "      <td>33.284</td>\n",
       "      <td>0.802363</td>\n",
       "      <td>0.802363</td>\n",
       "      <td>0.695516</td>\n",
       "      <td>0.592001</td>\n",
       "      <td>0.592001</td>\n",
       "      <td>...</td>\n",
       "      <td>0.005970</td>\n",
       "      <td>0.005970</td>\n",
       "      <td>0.003989</td>\n",
       "      <td>0.133631</td>\n",
       "      <td>0.002226</td>\n",
       "      <td>0.000565</td>\n",
       "      <td>0.018919</td>\n",
       "      <td>0.003731</td>\n",
       "      <td>0.003731</td>\n",
       "      <td>0.003731</td>\n",
       "    </tr>\n",
       "  </tbody>\n",
       "</table>\n",
       "<p>5 rows × 69 columns</p>\n",
       "</div>"
      ],
      "text/plain": [
       "   Partition      DataSet Algorithm  BuildTime  TestTime    5R.MRR  \\\n",
       "0          2  ratings.csv   Funksvd     10.337    21.226  0.722886   \n",
       "1          4  ratings.csv   Funksvd     10.352    23.436  0.797494   \n",
       "2          5  ratings.csv   Funksvd     10.449    23.776  0.742105   \n",
       "3          3  ratings.csv   Funksvd     10.346    26.480  0.753358   \n",
       "4          1  ratings.csv   Funksvd     10.371    33.284  0.802363   \n",
       "\n",
       "   5R.MRR.OfGood  5R.TopN.nDCG    5R.MAP  5R.MAP.OfGood    ...     \\\n",
       "0       0.728321      0.679003  0.561887       0.566112    ...      \n",
       "1       0.797494      0.700963  0.595995       0.595995    ...      \n",
       "2       0.742105      0.686075  0.572510       0.572510    ...      \n",
       "3       0.753358      0.706474  0.593291       0.597752    ...      \n",
       "4       0.802363      0.695516  0.592001       0.592001    ...      \n",
       "\n",
       "   500R.Recall   500R.F1  1000R.MRR  1000R.MRR.OfGood  1000R.TopN.nDCG  \\\n",
       "0     0.006716  0.006716   0.007223          0.193571         0.004132   \n",
       "1     0.001504  0.001504   0.004386          0.291667         0.002052   \n",
       "2     0.003759  0.003759   0.005293          0.175992         0.002374   \n",
       "3     0.005224  0.005224   0.006290          0.280952         0.002541   \n",
       "4     0.005970  0.005970   0.003989          0.133631         0.002226   \n",
       "\n",
       "   1000R.MAP  1000R.MAP.OfGood  1000R.Precision  1000R.Recall  1000R.F1  \n",
       "0   0.001122          0.030071         0.005224      0.005224  0.005224  \n",
       "1   0.000439          0.029167         0.001504      0.001504  0.001504  \n",
       "2   0.000529          0.017599         0.003759      0.003759  0.003759  \n",
       "3   0.000629          0.028095         0.002239      0.002239  0.002239  \n",
       "4   0.000565          0.018919         0.003731      0.003731  0.003731  \n",
       "\n",
       "[5 rows x 69 columns]"
      ]
     },
     "execution_count": 3,
     "metadata": {},
     "output_type": "execute_result"
    }
   ],
   "source": [
    "results = pd.read_csv('build/eval-results.csv')\n",
    "results.head()"
   ]
  },
  {
   "cell_type": "markdown",
   "metadata": {},
   "source": [
    "We ran each algorithm 5 times since we used 5-fold cross-validation.  What we want to do next is compute the average value of each metric for each data set."
   ]
  },
  {
   "cell_type": "code",
   "execution_count": 4,
   "metadata": {
    "collapsed": false
   },
   "outputs": [
    {
     "data": {
      "text/html": [
       "<div>\n",
       "<table border=\"1\" class=\"dataframe\">\n",
       "  <thead>\n",
       "    <tr style=\"text-align: right;\">\n",
       "      <th></th>\n",
       "      <th>BuildTime</th>\n",
       "      <th>TestTime</th>\n",
       "      <th>5R.MRR</th>\n",
       "      <th>5R.MRR.OfGood</th>\n",
       "      <th>5R.TopN.nDCG</th>\n",
       "      <th>5R.MAP</th>\n",
       "      <th>5R.MAP.OfGood</th>\n",
       "      <th>5R.Precision</th>\n",
       "      <th>5R.Recall</th>\n",
       "      <th>5R.F1</th>\n",
       "      <th>...</th>\n",
       "      <th>500R.Recall</th>\n",
       "      <th>500R.F1</th>\n",
       "      <th>1000R.MRR</th>\n",
       "      <th>1000R.MRR.OfGood</th>\n",
       "      <th>1000R.TopN.nDCG</th>\n",
       "      <th>1000R.MAP</th>\n",
       "      <th>1000R.MAP.OfGood</th>\n",
       "      <th>1000R.Precision</th>\n",
       "      <th>1000R.Recall</th>\n",
       "      <th>1000R.F1</th>\n",
       "    </tr>\n",
       "    <tr>\n",
       "      <th>Algorithm</th>\n",
       "      <th></th>\n",
       "      <th></th>\n",
       "      <th></th>\n",
       "      <th></th>\n",
       "      <th></th>\n",
       "      <th></th>\n",
       "      <th></th>\n",
       "      <th></th>\n",
       "      <th></th>\n",
       "      <th></th>\n",
       "      <th></th>\n",
       "      <th></th>\n",
       "      <th></th>\n",
       "      <th></th>\n",
       "      <th></th>\n",
       "      <th></th>\n",
       "      <th></th>\n",
       "      <th></th>\n",
       "      <th></th>\n",
       "      <th></th>\n",
       "      <th></th>\n",
       "    </tr>\n",
       "  </thead>\n",
       "  <tbody>\n",
       "    <tr>\n",
       "      <th>Funksvd</th>\n",
       "      <td>10.3710</td>\n",
       "      <td>25.6404</td>\n",
       "      <td>0.763641</td>\n",
       "      <td>0.764728</td>\n",
       "      <td>0.693606</td>\n",
       "      <td>0.583137</td>\n",
       "      <td>0.584874</td>\n",
       "      <td>0.739618</td>\n",
       "      <td>0.739378</td>\n",
       "      <td>0.739498</td>\n",
       "      <td>...</td>\n",
       "      <td>0.004635</td>\n",
       "      <td>0.004635</td>\n",
       "      <td>0.005436</td>\n",
       "      <td>0.215163</td>\n",
       "      <td>0.002665</td>\n",
       "      <td>0.000657</td>\n",
       "      <td>0.024770</td>\n",
       "      <td>0.003291</td>\n",
       "      <td>0.003291</td>\n",
       "      <td>0.003291</td>\n",
       "    </tr>\n",
       "    <tr>\n",
       "      <th>ItemItem</th>\n",
       "      <td>33.2456</td>\n",
       "      <td>34.4890</td>\n",
       "      <td>0.882512</td>\n",
       "      <td>0.882512</td>\n",
       "      <td>0.778929</td>\n",
       "      <td>0.702134</td>\n",
       "      <td>0.702134</td>\n",
       "      <td>0.815615</td>\n",
       "      <td>0.810490</td>\n",
       "      <td>0.813042</td>\n",
       "      <td>...</td>\n",
       "      <td>0.035326</td>\n",
       "      <td>0.035326</td>\n",
       "      <td>0.026685</td>\n",
       "      <td>0.199833</td>\n",
       "      <td>0.011546</td>\n",
       "      <td>0.002972</td>\n",
       "      <td>0.022417</td>\n",
       "      <td>0.014668</td>\n",
       "      <td>0.014668</td>\n",
       "      <td>0.014668</td>\n",
       "    </tr>\n",
       "    <tr>\n",
       "      <th>SlopOne</th>\n",
       "      <td>31.3796</td>\n",
       "      <td>33.3206</td>\n",
       "      <td>0.731907</td>\n",
       "      <td>0.732995</td>\n",
       "      <td>0.683324</td>\n",
       "      <td>0.567916</td>\n",
       "      <td>0.568779</td>\n",
       "      <td>0.734662</td>\n",
       "      <td>0.734423</td>\n",
       "      <td>0.734542</td>\n",
       "      <td>...</td>\n",
       "      <td>0.003141</td>\n",
       "      <td>0.003141</td>\n",
       "      <td>0.005295</td>\n",
       "      <td>0.267189</td>\n",
       "      <td>0.001586</td>\n",
       "      <td>0.000617</td>\n",
       "      <td>0.032552</td>\n",
       "      <td>0.001945</td>\n",
       "      <td>0.001945</td>\n",
       "      <td>0.001945</td>\n",
       "    </tr>\n",
       "  </tbody>\n",
       "</table>\n",
       "<p>3 rows × 66 columns</p>\n",
       "</div>"
      ],
      "text/plain": [
       "           BuildTime  TestTime    5R.MRR  5R.MRR.OfGood  5R.TopN.nDCG  \\\n",
       "Algorithm                                                               \n",
       "Funksvd      10.3710   25.6404  0.763641       0.764728      0.693606   \n",
       "ItemItem     33.2456   34.4890  0.882512       0.882512      0.778929   \n",
       "SlopOne      31.3796   33.3206  0.731907       0.732995      0.683324   \n",
       "\n",
       "             5R.MAP  5R.MAP.OfGood  5R.Precision  5R.Recall     5R.F1  \\\n",
       "Algorithm                                                               \n",
       "Funksvd    0.583137       0.584874      0.739618   0.739378  0.739498   \n",
       "ItemItem   0.702134       0.702134      0.815615   0.810490  0.813042   \n",
       "SlopOne    0.567916       0.568779      0.734662   0.734423  0.734542   \n",
       "\n",
       "             ...     500R.Recall   500R.F1  1000R.MRR  1000R.MRR.OfGood  \\\n",
       "Algorithm    ...                                                          \n",
       "Funksvd      ...        0.004635  0.004635   0.005436          0.215163   \n",
       "ItemItem     ...        0.035326  0.035326   0.026685          0.199833   \n",
       "SlopOne      ...        0.003141  0.003141   0.005295          0.267189   \n",
       "\n",
       "           1000R.TopN.nDCG  1000R.MAP  1000R.MAP.OfGood  1000R.Precision  \\\n",
       "Algorithm                                                                  \n",
       "Funksvd           0.002665   0.000657          0.024770         0.003291   \n",
       "ItemItem          0.011546   0.002972          0.022417         0.014668   \n",
       "SlopOne           0.001586   0.000617          0.032552         0.001945   \n",
       "\n",
       "           1000R.Recall  1000R.F1  \n",
       "Algorithm                          \n",
       "Funksvd        0.003291  0.003291  \n",
       "ItemItem       0.014668  0.014668  \n",
       "SlopOne        0.001945  0.001945  \n",
       "\n",
       "[3 rows x 66 columns]"
      ]
     },
     "execution_count": 4,
     "metadata": {},
     "output_type": "execute_result"
    }
   ],
   "source": [
    "agg_results = results.drop(['Partition'], axis=1).groupby('Algorithm').mean()\n",
    "agg_results"
   ]
  },
  {
   "cell_type": "markdown",
   "metadata": {},
   "source": [
    "## Plotting Results\n",
    "\n",
    "Let's start plotting things. What's the MRR achieved by each algorithm?"
   ]
  },
  {
   "cell_type": "code",
   "execution_count": 5,
   "metadata": {
    "collapsed": false
   },
   "outputs": [
    {
     "data": {
      "text/plain": [
       "<matplotlib.axes._subplots.AxesSubplot at 0x10902ae90>"
      ]
     },
     "execution_count": 5,
     "metadata": {},
     "output_type": "execute_result"
    },
    {
     "data": {
      "image/png": "[encoded data removed]",
      "text/plain": [
       "<matplotlib.figure.Figure at 0x108f7cb50>"
      ]
     },
     "metadata": {},
     "output_type": "display_data"
    }
   ],
   "source": [
    "results.loc[:,['Algorithm', 'MRR.ByUser']].boxplot(by='Algorithm')"
   ]
  },
  {
   "cell_type": "markdown",
   "metadata": {},
   "source": [
    "Next up: nDCG"
   ]
  },
  {
   "cell_type": "code",
   "execution_count": 6,
   "metadata": {
    "collapsed": false
   },
   "outputs": [
    {
     "data": {
      "text/plain": [
       "<matplotlib.axes._subplots.AxesSubplot at 0x1091a9d10>"
      ]
     },
     "execution_count": 6,
     "metadata": {},
     "output_type": "execute_result"
    },
    {
     "data": {
      "image/png": "[encoded data removed]",
      "text/plain": [
       "<matplotlib.figure.Figure at 0x10918da50>"
      ]
     },
     "metadata": {},
     "output_type": "display_data"
    }
   ],
   "source": [
    "results.loc[:,['Algorithm', 'nDCG']].boxplot(by='Algorithm')"
   ]
  },
  {
   "cell_type": "markdown",
   "metadata": {},
   "source": [
    "Next : MAP"
   ]
  },
  {
   "cell_type": "code",
   "execution_count": 7,
   "metadata": {
    "collapsed": false
   },
   "outputs": [
    {
     "data": {
      "text/plain": [
       "<matplotlib.axes._subplots.AxesSubplot at 0x109394cd0>"
      ]
     },
     "execution_count": 7,
     "metadata": {},
     "output_type": "execute_result"
    },
    {
     "data": {
      "image/png": "[encoded data removed]",
      "text/plain": [
       "<matplotlib.figure.Figure at 0x10953abd0>"
      ]
     },
     "metadata": {},
     "output_type": "display_data"
    }
   ],
   "source": [
    "results.loc[:,['Algorithm', 'MAP']].boxplot(by='Algorithm')"
   ]
  },
  {
   "cell_type": "markdown",
   "metadata": {},
   "source": [
    "Next : PR"
   ]
  },
  {
   "cell_type": "code",
   "execution_count": 8,
   "metadata": {
    "collapsed": false
   },
   "outputs": [
    {
     "data": {
      "text/plain": [
       "<matplotlib.axes._subplots.AxesSubplot at 0x10954d450>"
      ]
     },
     "execution_count": 8,
     "metadata": {},
     "output_type": "execute_result"
    },
    {
     "data": {
      "image/png": "[encoded data removed]",
      "text/plain": [
       "<matplotlib.figure.Figure at 0x10953a250>"
      ]
     },
     "metadata": {},
     "output_type": "display_data"
    }
   ],
   "source": [
    "results.loc[:,['Algorithm', 'PR']].boxplot(by='Algorithm')"
   ]
  },
  {
   "cell_type": "markdown",
   "metadata": {},
   "source": [
    "Finally, the build and test times."
   ]
  },
  {
   "cell_type": "code",
   "execution_count": 9,
   "metadata": {
    "collapsed": false
   },
   "outputs": [
    {
     "data": {
      "text/plain": [
       "array([<matplotlib.axes._subplots.AxesSubplot object at 0x109729690>,\n",
       "       <matplotlib.axes._subplots.AxesSubplot object at 0x109a72310>], dtype=object)"
      ]
     },
     "execution_count": 9,
     "metadata": {},
     "output_type": "execute_result"
    },
    {
     "data": {
      "image/png": "[encoded data removed]",
      "text/plain": [
       "<matplotlib.figure.Figure at 0x10952db50>"
      ]
     },
     "metadata": {},
     "output_type": "display_data"
    }
   ],
   "source": [
    "results.loc[:,['Algorithm', 'BuildTime', 'TestTime']].boxplot(by='Algorithm')"
   ]
  },
  {
   "cell_type": "code",
   "execution_count": null,
   "metadata": {
    "collapsed": true
   },
   "outputs": [],
   "source": []
  }
 ],
 "metadata": {
  "kernelspec": {
   "display_name": "Python 2",
   "language": "python",
   "name": "python2"
  },
  "language_info": {
   "codemirror_mode": {
    "name": "ipython",
    "version": 2
   },
   "file_extension": ".py",
   "mimetype": "text/x-python",
   "name": "python",
   "nbconvert_exporter": "python",
   "pygments_lexer": "ipython2",
   "version": "2.7.11"
  }
 },
 "nbformat": 4,
 "nbformat_minor": 0
}
